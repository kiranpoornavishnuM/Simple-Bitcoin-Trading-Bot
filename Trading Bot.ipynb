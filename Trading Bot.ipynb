{
 "cells": [
  {
   "cell_type": "code",
   "execution_count": null,
   "id": "647d419d",
   "metadata": {},
   "outputs": [],
   "source": [
    "import sqlalchemy\n",
    "import pandas as pd\n",
    "from binance.client  import Client"
   ]
  },
  {
   "cell_type": "code",
   "execution_count": null,
   "id": "a3eead1a",
   "metadata": {},
   "outputs": [],
   "source": [
    "client = Client(api_Key,api_Secret)\n",
    "#From Binance API library"
   ]
  },
  {
   "cell_type": "code",
   "execution_count": null,
   "id": "3e68ed80",
   "metadata": {},
   "outputs": [],
   "source": [
    "engine = sqlalchemy.create_engine('sqlite:///BTCUSDTstream.db')\n",
    "#The real time data is assigned to the variable 'engine'. Real time data is fetched from 'Live Data Script'"
   ]
  },
  {
   "cell_type": "code",
   "execution_count": null,
   "id": "eb08b181",
   "metadata": {},
   "outputs": [],
   "source": [
    "df = pd.read_sql('BTCUSDT',engine)"
   ]
  },
  {
   "cell_type": "code",
   "execution_count": 1,
   "id": "a3ecba39",
   "metadata": {
    "collapsed": true
   },
   "outputs": [
    {
     "ename": "NameError",
     "evalue": "name 'df' is not defined",
     "output_type": "error",
     "traceback": [
      "\u001b[1;31m---------------------------------------------------------------------------\u001b[0m",
      "\u001b[1;31mNameError\u001b[0m                                 Traceback (most recent call last)",
      "\u001b[1;32m<ipython-input-1-863b9a2b3fe5>\u001b[0m in \u001b[0;36m<module>\u001b[1;34m\u001b[0m\n\u001b[1;32m----> 1\u001b[1;33m \u001b[0mdf\u001b[0m\u001b[1;33m.\u001b[0m\u001b[0mPrice\u001b[0m\u001b[1;33m.\u001b[0m\u001b[0mplot\u001b[0m\u001b[1;33m(\u001b[0m\u001b[1;33m)\u001b[0m\u001b[1;33m\u001b[0m\u001b[1;33m\u001b[0m\u001b[0m\n\u001b[0m",
      "\u001b[1;31mNameError\u001b[0m: name 'df' is not defined"
     ]
    }
   ],
   "source": [
    "df.Price.plot()\n",
    "#This will plot the graph of the asset price "
   ]
  },
  {
   "cell_type": "code",
   "execution_count": null,
   "id": "613b2d08",
   "metadata": {},
   "outputs": [],
   "source": [
    "#TrendFollowing Stratergy\n",
    "#If the asset rises by 0.1% in last 60 seconds the trade will be taken.Therefore 0.1 Quantity of the asset will be bought.\n",
    "#The Exit logic will be +0.15% or -0.15% .\n",
    "#If the asset price moves up 0.15% the trade will be squared off with a profit.\n",
    "#If the asset price moves down by 0.15% then trade will be Squared off with a loss \n",
    "\n",
    "def stratergy(entry, lookback, qty, open_position=False):\n",
    "        while True:\n",
    "            df = pd.read_sql('BTCUSDT',engine)\n",
    "            lookbackperiod = df.iloc[-lookback:]\n",
    "            cumret = (lookbackperiod.Price.pct_change() +1).cumprod() - 1\n",
    "            if not open_position:\n",
    "                if cumret[cumret.last_valid_index()] > entry:\n",
    "                    order = client.create_order(symbol='BTCUSDT',\n",
    "                                               side='BUY',\n",
    "                                                type='MARKET',\n",
    "                                               quantity=qty)\n",
    "                    print(order)\n",
    "                    open_position = True\n",
    "                    break\n",
    "            if open_position:\n",
    "                while True:\n",
    "                    df = pd.read_sql('BTCUSDT',engine)\n",
    "                    sincebuy = df.loc[df.Time > pd.to_datetime(order['transactTime'],\n",
    "                                                              unit='ms')]\n",
    "                    if len(sincebuy) > 1:\n",
    "                        sincebuyret = (sincebuy.Price.pet_change() +1).cumprod() -1\n",
    "                    last_entry = sicnebuy[sincebuyret.last_valid_index()]\n",
    "                    if last_entry > 0.0015 or last_entry < -0.0015:\n",
    "                        order = client.create_order(symbol='BTCUSDT',\n",
    "                                               side='SELL',\n",
    "                                                type='MARKET',\n",
    "                                               quantity=qty)\n",
    "                    print(order)\n",
    "                    break"
   ]
  },
  {
   "cell_type": "code",
   "execution_count": null,
   "id": "490b9162",
   "metadata": {},
   "outputs": [],
   "source": [
    "stratergy(0.001,60,0.001)\n",
    "#stratergy(% raise in the asset,TimePeriod in Seconds,Qunatity)\n",
    "#In the above case the asset will be bought if it raises by 0.1% in last 60 seconds. The quantity will be 0.1"
   ]
  },
  {
   "cell_type": "code",
   "execution_count": null,
   "id": "4001c170",
   "metadata": {},
   "outputs": [],
   "source": []
  },
  {
   "cell_type": "code",
   "execution_count": null,
   "id": "0a5faafe",
   "metadata": {},
   "outputs": [],
   "source": []
  }
 ],
 "metadata": {
  "kernelspec": {
   "display_name": "Python 3",
   "language": "python",
   "name": "python3"
  },
  "language_info": {
   "codemirror_mode": {
    "name": "ipython",
    "version": 3
   },
   "file_extension": ".py",
   "mimetype": "text/x-python",
   "name": "python",
   "nbconvert_exporter": "python",
   "pygments_lexer": "ipython3",
   "version": "3.8.8"
  }
 },
 "nbformat": 4,
 "nbformat_minor": 5
}
